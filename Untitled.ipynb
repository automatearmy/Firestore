{
 "cells": [
  {
   "cell_type": "code",
   "execution_count": 3,
   "id": "57079615",
   "metadata": {},
   "outputs": [],
   "source": [
    "import firebase_admin\n",
    "from firebase_admin import credentials\n",
    "from firebase_admin import firestore\n",
    "from datetime import datetime\n",
    "\n",
    "# Initialize the Firebase Admin SDK\n",
    "cred = credentials.Certificate(r'path/to/serviceAccountKey.json')\n",
    "firebase_admin.initialize_app(cred)\n",
    "\n",
    "# Get a reference to the Firestore database\n",
    "db = firestore.client()\n",
    "\n",
    "# Define the collection name\n",
    "collection_name = 'the-collection-you-wanna-use'\n",
    "\n",
    "# Define the date\n",
    "date_created = datetime.now()\n",
    "# Or just change it to a custom date\n",
    "\n",
    "# Retrieve all documents in the collection\n",
    "docs = db.collection(collection_name).get()\n",
    "\n",
    "# Update each document with the \"dateCreated\" field\n",
    "for doc in docs:\n",
    "    doc_ref = db.collection(collection_name).document(doc.id)\n",
    "    doc_ref.update({'dateCreated': date_created})\n",
    "\n",
    "# Close the connection\n",
    "firebase_admin.delete_app(firebase_admin.get_app())"
   ]
  },
  {
   "cell_type": "code",
   "execution_count": null,
   "id": "c0c41e79",
   "metadata": {},
   "outputs": [],
   "source": []
  }
 ],
 "metadata": {
  "kernelspec": {
   "display_name": "Python 3 (ipykernel)",
   "language": "python",
   "name": "python3"
  },
  "language_info": {
   "codemirror_mode": {
    "name": "ipython",
    "version": 3
   },
   "file_extension": ".py",
   "mimetype": "text/x-python",
   "name": "python",
   "nbconvert_exporter": "python",
   "pygments_lexer": "ipython3",
   "version": "3.9.7"
  }
 },
 "nbformat": 4,
 "nbformat_minor": 5
}
